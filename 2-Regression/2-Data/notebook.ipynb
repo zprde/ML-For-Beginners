{
 "metadata": {
  "language_info": {
   "codemirror_mode": {
    "name": "ipython",
    "version": 3
   },
   "file_extension": ".py",
   "mimetype": "text/x-python",
   "name": "python",
   "nbconvert_exporter": "python",
   "pygments_lexer": "ipython3",
   "version": "3.8.3-final"
  },
  "orig_nbformat": 2,
  "kernelspec": {
   "name": "python3",
   "display_name": "Python 3",
   "language": "python"
  }
 },
 "nbformat": 4,
 "nbformat_minor": 2,
 "cells": [
  {
   "cell_type": "markdown",
   "source": [
    "# 如何预测给定月份的南瓜价格\n",
    "Tasking:\n",
    "1. 清洗数据\n",
    "2. 选取特征\n",
    "3. 分离训练集与验证集\n",
    "4. 选择模型\n",
    "    1. 训练数据\n",
    "    2. 验证模型\n",
    "    3. 可视化\n",
    "\n"
   ],
   "metadata": {
    "collapsed": false
   }
  },
  {
   "cell_type": "code",
   "execution_count": 76,
   "outputs": [
    {
     "data": {
      "text/plain": "   City Name Type       Package      Variety Sub Variety  Grade     Date  \\\n0  BALTIMORE  NaN  24 inch bins          NaN         NaN    NaN  4/29/17   \n1  BALTIMORE  NaN  24 inch bins          NaN         NaN    NaN   5/6/17   \n2  BALTIMORE  NaN  24 inch bins  HOWDEN TYPE         NaN    NaN  9/24/16   \n3  BALTIMORE  NaN  24 inch bins  HOWDEN TYPE         NaN    NaN  9/24/16   \n4  BALTIMORE  NaN  24 inch bins  HOWDEN TYPE         NaN    NaN  11/5/16   \n\n   Low Price  High Price  Mostly Low  ...  Unit of Sale Quality Condition  \\\n0      270.0       280.0       270.0  ...           NaN     NaN       NaN   \n1      270.0       280.0       270.0  ...           NaN     NaN       NaN   \n2      160.0       160.0       160.0  ...           NaN     NaN       NaN   \n3      160.0       160.0       160.0  ...           NaN     NaN       NaN   \n4       90.0       100.0        90.0  ...           NaN     NaN       NaN   \n\n  Appearance Storage  Crop Repack  Trans Mode  Unnamed: 24  Unnamed: 25  \n0        NaN     NaN   NaN      E         NaN          NaN          NaN  \n1        NaN     NaN   NaN      E         NaN          NaN          NaN  \n2        NaN     NaN   NaN      N         NaN          NaN          NaN  \n3        NaN     NaN   NaN      N         NaN          NaN          NaN  \n4        NaN     NaN   NaN      N         NaN          NaN          NaN  \n\n[5 rows x 26 columns]",
      "text/html": "<div>\n<style scoped>\n    .dataframe tbody tr th:only-of-type {\n        vertical-align: middle;\n    }\n\n    .dataframe tbody tr th {\n        vertical-align: top;\n    }\n\n    .dataframe thead th {\n        text-align: right;\n    }\n</style>\n<table border=\"1\" class=\"dataframe\">\n  <thead>\n    <tr style=\"text-align: right;\">\n      <th></th>\n      <th>City Name</th>\n      <th>Type</th>\n      <th>Package</th>\n      <th>Variety</th>\n      <th>Sub Variety</th>\n      <th>Grade</th>\n      <th>Date</th>\n      <th>Low Price</th>\n      <th>High Price</th>\n      <th>Mostly Low</th>\n      <th>...</th>\n      <th>Unit of Sale</th>\n      <th>Quality</th>\n      <th>Condition</th>\n      <th>Appearance</th>\n      <th>Storage</th>\n      <th>Crop</th>\n      <th>Repack</th>\n      <th>Trans Mode</th>\n      <th>Unnamed: 24</th>\n      <th>Unnamed: 25</th>\n    </tr>\n  </thead>\n  <tbody>\n    <tr>\n      <th>0</th>\n      <td>BALTIMORE</td>\n      <td>NaN</td>\n      <td>24 inch bins</td>\n      <td>NaN</td>\n      <td>NaN</td>\n      <td>NaN</td>\n      <td>4/29/17</td>\n      <td>270.0</td>\n      <td>280.0</td>\n      <td>270.0</td>\n      <td>...</td>\n      <td>NaN</td>\n      <td>NaN</td>\n      <td>NaN</td>\n      <td>NaN</td>\n      <td>NaN</td>\n      <td>NaN</td>\n      <td>E</td>\n      <td>NaN</td>\n      <td>NaN</td>\n      <td>NaN</td>\n    </tr>\n    <tr>\n      <th>1</th>\n      <td>BALTIMORE</td>\n      <td>NaN</td>\n      <td>24 inch bins</td>\n      <td>NaN</td>\n      <td>NaN</td>\n      <td>NaN</td>\n      <td>5/6/17</td>\n      <td>270.0</td>\n      <td>280.0</td>\n      <td>270.0</td>\n      <td>...</td>\n      <td>NaN</td>\n      <td>NaN</td>\n      <td>NaN</td>\n      <td>NaN</td>\n      <td>NaN</td>\n      <td>NaN</td>\n      <td>E</td>\n      <td>NaN</td>\n      <td>NaN</td>\n      <td>NaN</td>\n    </tr>\n    <tr>\n      <th>2</th>\n      <td>BALTIMORE</td>\n      <td>NaN</td>\n      <td>24 inch bins</td>\n      <td>HOWDEN TYPE</td>\n      <td>NaN</td>\n      <td>NaN</td>\n      <td>9/24/16</td>\n      <td>160.0</td>\n      <td>160.0</td>\n      <td>160.0</td>\n      <td>...</td>\n      <td>NaN</td>\n      <td>NaN</td>\n      <td>NaN</td>\n      <td>NaN</td>\n      <td>NaN</td>\n      <td>NaN</td>\n      <td>N</td>\n      <td>NaN</td>\n      <td>NaN</td>\n      <td>NaN</td>\n    </tr>\n    <tr>\n      <th>3</th>\n      <td>BALTIMORE</td>\n      <td>NaN</td>\n      <td>24 inch bins</td>\n      <td>HOWDEN TYPE</td>\n      <td>NaN</td>\n      <td>NaN</td>\n      <td>9/24/16</td>\n      <td>160.0</td>\n      <td>160.0</td>\n      <td>160.0</td>\n      <td>...</td>\n      <td>NaN</td>\n      <td>NaN</td>\n      <td>NaN</td>\n      <td>NaN</td>\n      <td>NaN</td>\n      <td>NaN</td>\n      <td>N</td>\n      <td>NaN</td>\n      <td>NaN</td>\n      <td>NaN</td>\n    </tr>\n    <tr>\n      <th>4</th>\n      <td>BALTIMORE</td>\n      <td>NaN</td>\n      <td>24 inch bins</td>\n      <td>HOWDEN TYPE</td>\n      <td>NaN</td>\n      <td>NaN</td>\n      <td>11/5/16</td>\n      <td>90.0</td>\n      <td>100.0</td>\n      <td>90.0</td>\n      <td>...</td>\n      <td>NaN</td>\n      <td>NaN</td>\n      <td>NaN</td>\n      <td>NaN</td>\n      <td>NaN</td>\n      <td>NaN</td>\n      <td>N</td>\n      <td>NaN</td>\n      <td>NaN</td>\n      <td>NaN</td>\n    </tr>\n  </tbody>\n</table>\n<p>5 rows × 26 columns</p>\n</div>"
     },
     "execution_count": 76,
     "metadata": {},
     "output_type": "execute_result"
    }
   ],
   "source": [
    "import pandas\n",
    "import matplotlib.pyplot as plt\n",
    "\n",
    "pumpkins = pandas.read_csv('../data/US-pumpkins.csv')\n",
    "\n",
    "# 头5行\n",
    "pumpkins.head()"
   ],
   "metadata": {
    "collapsed": false,
    "ExecuteTime": {
     "end_time": "2024-03-24T08:32:41.141422500Z",
     "start_time": "2024-03-24T08:32:40.509055500Z"
    }
   }
  },
  {
   "cell_type": "code",
   "execution_count": 77,
   "outputs": [
    {
     "data": {
      "text/plain": "      City Name Type        Package    Variety Sub Variety  Grade     Date  \\\n1752  ST. LOUIS  NaN  22 lb cartons  MINIATURE   FLAT TYPE    NaN  9/30/16   \n1753  ST. LOUIS  NaN   36 inch bins  MINIATURE  ROUND TYPE    NaN  9/26/16   \n1754  ST. LOUIS  NaN   36 inch bins  MINIATURE  ROUND TYPE    NaN  9/27/16   \n1755  ST. LOUIS  NaN   36 inch bins  MINIATURE  ROUND TYPE    NaN  9/28/16   \n1756  ST. LOUIS  NaN   36 inch bins  MINIATURE  ROUND TYPE    NaN  9/29/16   \n\n      Low Price  High Price  Mostly Low  ...  Unit of Sale Quality Condition  \\\n1752      14.75       14.75         NaN  ...           NaN     NaN       NaN   \n1753     275.00      275.00         NaN  ...           NaN     NaN       NaN   \n1754     275.00      275.00         NaN  ...           NaN     NaN       NaN   \n1755     275.00      275.00         NaN  ...           NaN     NaN       NaN   \n1756     275.00      275.00         NaN  ...           NaN     NaN       NaN   \n\n     Appearance Storage  Crop Repack  Trans Mode  Unnamed: 24  \\\n1752        NaN     NaN   NaN      N         NaN          NaN   \n1753        NaN     NaN   NaN      N         NaN          NaN   \n1754        NaN     NaN   NaN      N         NaN          NaN   \n1755        NaN     NaN   NaN      N         NaN          NaN   \n1756        NaN     NaN   NaN      N         NaN          NaN   \n\n                          Unnamed: 25  \n1752                           LOWER.  \n1753                           LOWER.  \n1754                          STEADY.  \n1755                    ABOUT STEADY.  \n1756  MINIATURE LOWER, OTHERS STEADY.  \n\n[5 rows x 26 columns]",
      "text/html": "<div>\n<style scoped>\n    .dataframe tbody tr th:only-of-type {\n        vertical-align: middle;\n    }\n\n    .dataframe tbody tr th {\n        vertical-align: top;\n    }\n\n    .dataframe thead th {\n        text-align: right;\n    }\n</style>\n<table border=\"1\" class=\"dataframe\">\n  <thead>\n    <tr style=\"text-align: right;\">\n      <th></th>\n      <th>City Name</th>\n      <th>Type</th>\n      <th>Package</th>\n      <th>Variety</th>\n      <th>Sub Variety</th>\n      <th>Grade</th>\n      <th>Date</th>\n      <th>Low Price</th>\n      <th>High Price</th>\n      <th>Mostly Low</th>\n      <th>...</th>\n      <th>Unit of Sale</th>\n      <th>Quality</th>\n      <th>Condition</th>\n      <th>Appearance</th>\n      <th>Storage</th>\n      <th>Crop</th>\n      <th>Repack</th>\n      <th>Trans Mode</th>\n      <th>Unnamed: 24</th>\n      <th>Unnamed: 25</th>\n    </tr>\n  </thead>\n  <tbody>\n    <tr>\n      <th>1752</th>\n      <td>ST. LOUIS</td>\n      <td>NaN</td>\n      <td>22 lb cartons</td>\n      <td>MINIATURE</td>\n      <td>FLAT TYPE</td>\n      <td>NaN</td>\n      <td>9/30/16</td>\n      <td>14.75</td>\n      <td>14.75</td>\n      <td>NaN</td>\n      <td>...</td>\n      <td>NaN</td>\n      <td>NaN</td>\n      <td>NaN</td>\n      <td>NaN</td>\n      <td>NaN</td>\n      <td>NaN</td>\n      <td>N</td>\n      <td>NaN</td>\n      <td>NaN</td>\n      <td>LOWER.</td>\n    </tr>\n    <tr>\n      <th>1753</th>\n      <td>ST. LOUIS</td>\n      <td>NaN</td>\n      <td>36 inch bins</td>\n      <td>MINIATURE</td>\n      <td>ROUND TYPE</td>\n      <td>NaN</td>\n      <td>9/26/16</td>\n      <td>275.00</td>\n      <td>275.00</td>\n      <td>NaN</td>\n      <td>...</td>\n      <td>NaN</td>\n      <td>NaN</td>\n      <td>NaN</td>\n      <td>NaN</td>\n      <td>NaN</td>\n      <td>NaN</td>\n      <td>N</td>\n      <td>NaN</td>\n      <td>NaN</td>\n      <td>LOWER.</td>\n    </tr>\n    <tr>\n      <th>1754</th>\n      <td>ST. LOUIS</td>\n      <td>NaN</td>\n      <td>36 inch bins</td>\n      <td>MINIATURE</td>\n      <td>ROUND TYPE</td>\n      <td>NaN</td>\n      <td>9/27/16</td>\n      <td>275.00</td>\n      <td>275.00</td>\n      <td>NaN</td>\n      <td>...</td>\n      <td>NaN</td>\n      <td>NaN</td>\n      <td>NaN</td>\n      <td>NaN</td>\n      <td>NaN</td>\n      <td>NaN</td>\n      <td>N</td>\n      <td>NaN</td>\n      <td>NaN</td>\n      <td>STEADY.</td>\n    </tr>\n    <tr>\n      <th>1755</th>\n      <td>ST. LOUIS</td>\n      <td>NaN</td>\n      <td>36 inch bins</td>\n      <td>MINIATURE</td>\n      <td>ROUND TYPE</td>\n      <td>NaN</td>\n      <td>9/28/16</td>\n      <td>275.00</td>\n      <td>275.00</td>\n      <td>NaN</td>\n      <td>...</td>\n      <td>NaN</td>\n      <td>NaN</td>\n      <td>NaN</td>\n      <td>NaN</td>\n      <td>NaN</td>\n      <td>NaN</td>\n      <td>N</td>\n      <td>NaN</td>\n      <td>NaN</td>\n      <td>ABOUT STEADY.</td>\n    </tr>\n    <tr>\n      <th>1756</th>\n      <td>ST. LOUIS</td>\n      <td>NaN</td>\n      <td>36 inch bins</td>\n      <td>MINIATURE</td>\n      <td>ROUND TYPE</td>\n      <td>NaN</td>\n      <td>9/29/16</td>\n      <td>275.00</td>\n      <td>275.00</td>\n      <td>NaN</td>\n      <td>...</td>\n      <td>NaN</td>\n      <td>NaN</td>\n      <td>NaN</td>\n      <td>NaN</td>\n      <td>NaN</td>\n      <td>NaN</td>\n      <td>N</td>\n      <td>NaN</td>\n      <td>NaN</td>\n      <td>MINIATURE LOWER, OTHERS STEADY.</td>\n    </tr>\n  </tbody>\n</table>\n<p>5 rows × 26 columns</p>\n</div>"
     },
     "execution_count": 77,
     "metadata": {},
     "output_type": "execute_result"
    }
   ],
   "source": [
    "# 末尾5行\n",
    "pumpkins.tail()"
   ],
   "metadata": {
    "collapsed": false,
    "ExecuteTime": {
     "end_time": "2024-03-24T08:32:41.158134800Z",
     "start_time": "2024-03-24T08:32:41.132432200Z"
    }
   }
  },
  {
   "cell_type": "code",
   "execution_count": 78,
   "outputs": [
    {
     "data": {
      "text/plain": "        Package     Date  Low Price  High Price\n0  24 inch bins  4/29/17      270.0       280.0\n1  24 inch bins   5/6/17      270.0       280.0\n2  24 inch bins  9/24/16      160.0       160.0\n3  24 inch bins  9/24/16      160.0       160.0\n4  24 inch bins  11/5/16       90.0       100.0",
      "text/html": "<div>\n<style scoped>\n    .dataframe tbody tr th:only-of-type {\n        vertical-align: middle;\n    }\n\n    .dataframe tbody tr th {\n        vertical-align: top;\n    }\n\n    .dataframe thead th {\n        text-align: right;\n    }\n</style>\n<table border=\"1\" class=\"dataframe\">\n  <thead>\n    <tr style=\"text-align: right;\">\n      <th></th>\n      <th>Package</th>\n      <th>Date</th>\n      <th>Low Price</th>\n      <th>High Price</th>\n    </tr>\n  </thead>\n  <tbody>\n    <tr>\n      <th>0</th>\n      <td>24 inch bins</td>\n      <td>4/29/17</td>\n      <td>270.0</td>\n      <td>280.0</td>\n    </tr>\n    <tr>\n      <th>1</th>\n      <td>24 inch bins</td>\n      <td>5/6/17</td>\n      <td>270.0</td>\n      <td>280.0</td>\n    </tr>\n    <tr>\n      <th>2</th>\n      <td>24 inch bins</td>\n      <td>9/24/16</td>\n      <td>160.0</td>\n      <td>160.0</td>\n    </tr>\n    <tr>\n      <th>3</th>\n      <td>24 inch bins</td>\n      <td>9/24/16</td>\n      <td>160.0</td>\n      <td>160.0</td>\n    </tr>\n    <tr>\n      <th>4</th>\n      <td>24 inch bins</td>\n      <td>11/5/16</td>\n      <td>90.0</td>\n      <td>100.0</td>\n    </tr>\n  </tbody>\n</table>\n</div>"
     },
     "execution_count": 78,
     "metadata": {},
     "output_type": "execute_result"
    }
   ],
   "source": [
    "# 清洗数据\n",
    "columns = ['Package', 'Date', 'Low Price', 'High Price']\n",
    "pumpkins = pumpkins.drop([c for c in pumpkins.columns if c not in columns], axis=1)\n",
    "pumpkins.head()"
   ],
   "metadata": {
    "collapsed": false,
    "ExecuteTime": {
     "end_time": "2024-03-24T08:32:41.275245900Z",
     "start_time": "2024-03-24T08:32:41.151134500Z"
    }
   }
  },
  {
   "cell_type": "code",
   "execution_count": 79,
   "outputs": [
    {
     "data": {
      "text/plain": "Package       0\nDate          0\nLow Price     0\nHigh Price    0\ndtype: int64"
     },
     "execution_count": 79,
     "metadata": {},
     "output_type": "execute_result"
    }
   ],
   "source": [
    "# 检查数据\n",
    "pumpkins.isnull().sum()"
   ],
   "metadata": {
    "collapsed": false,
    "ExecuteTime": {
     "end_time": "2024-03-24T08:32:41.276246500Z",
     "start_time": "2024-03-24T08:32:41.259238900Z"
    }
   }
  },
  {
   "cell_type": "code",
   "execution_count": 80,
   "outputs": [
    {
     "data": {
      "text/plain": "   Month       Package  Low Price  High Price  Price\n0      4  24 inch bins      270.0       280.0  275.0\n1      5  24 inch bins      270.0       280.0  275.0\n2      9  24 inch bins      160.0       160.0  160.0\n3      9  24 inch bins      160.0       160.0  160.0\n4     11  24 inch bins       90.0       100.0   95.0",
      "text/html": "<div>\n<style scoped>\n    .dataframe tbody tr th:only-of-type {\n        vertical-align: middle;\n    }\n\n    .dataframe tbody tr th {\n        vertical-align: top;\n    }\n\n    .dataframe thead th {\n        text-align: right;\n    }\n</style>\n<table border=\"1\" class=\"dataframe\">\n  <thead>\n    <tr style=\"text-align: right;\">\n      <th></th>\n      <th>Month</th>\n      <th>Package</th>\n      <th>Low Price</th>\n      <th>High Price</th>\n      <th>Price</th>\n    </tr>\n  </thead>\n  <tbody>\n    <tr>\n      <th>0</th>\n      <td>4</td>\n      <td>24 inch bins</td>\n      <td>270.0</td>\n      <td>280.0</td>\n      <td>275.0</td>\n    </tr>\n    <tr>\n      <th>1</th>\n      <td>5</td>\n      <td>24 inch bins</td>\n      <td>270.0</td>\n      <td>280.0</td>\n      <td>275.0</td>\n    </tr>\n    <tr>\n      <th>2</th>\n      <td>9</td>\n      <td>24 inch bins</td>\n      <td>160.0</td>\n      <td>160.0</td>\n      <td>160.0</td>\n    </tr>\n    <tr>\n      <th>3</th>\n      <td>9</td>\n      <td>24 inch bins</td>\n      <td>160.0</td>\n      <td>160.0</td>\n      <td>160.0</td>\n    </tr>\n    <tr>\n      <th>4</th>\n      <td>11</td>\n      <td>24 inch bins</td>\n      <td>90.0</td>\n      <td>100.0</td>\n      <td>95.0</td>\n    </tr>\n  </tbody>\n</table>\n</div>"
     },
     "execution_count": 80,
     "metadata": {},
     "output_type": "execute_result"
    }
   ],
   "source": [
    "price = (pumpkins['Low Price'] + pumpkins['High Price']) / 2\n",
    "month = pandas.DatetimeIndex(pumpkins['Date']).month\n",
    "\n",
    "new_pumpkins = pandas.DataFrame({\n",
    "    'Month': month,\n",
    "    'Package': pumpkins['Package'],\n",
    "    'Low Price': pumpkins['Low Price'],\n",
    "    'High Price': pumpkins['High Price'],\n",
    "    'Price': price\n",
    "})\n",
    "new_pumpkins.head()\n"
   ],
   "metadata": {
    "collapsed": false,
    "ExecuteTime": {
     "end_time": "2024-03-24T08:32:41.436000400Z",
     "start_time": "2024-03-24T08:32:41.260245600Z"
    }
   }
  },
  {
   "cell_type": "code",
   "execution_count": 81,
   "outputs": [
    {
     "data": {
      "text/plain": "    Month               Package  Low Price  High Price  Price\n70      9  1 1/9 bushel cartons       15.0        15.0   15.0\n71      9  1 1/9 bushel cartons       18.0        18.0   18.0\n72     10  1 1/9 bushel cartons       18.0        18.0   18.0\n73     10  1 1/9 bushel cartons       17.0        17.0   17.0\n74     10  1 1/9 bushel cartons       15.0        15.0   15.0",
      "text/html": "<div>\n<style scoped>\n    .dataframe tbody tr th:only-of-type {\n        vertical-align: middle;\n    }\n\n    .dataframe tbody tr th {\n        vertical-align: top;\n    }\n\n    .dataframe thead th {\n        text-align: right;\n    }\n</style>\n<table border=\"1\" class=\"dataframe\">\n  <thead>\n    <tr style=\"text-align: right;\">\n      <th></th>\n      <th>Month</th>\n      <th>Package</th>\n      <th>Low Price</th>\n      <th>High Price</th>\n      <th>Price</th>\n    </tr>\n  </thead>\n  <tbody>\n    <tr>\n      <th>70</th>\n      <td>9</td>\n      <td>1 1/9 bushel cartons</td>\n      <td>15.0</td>\n      <td>15.0</td>\n      <td>15.0</td>\n    </tr>\n    <tr>\n      <th>71</th>\n      <td>9</td>\n      <td>1 1/9 bushel cartons</td>\n      <td>18.0</td>\n      <td>18.0</td>\n      <td>18.0</td>\n    </tr>\n    <tr>\n      <th>72</th>\n      <td>10</td>\n      <td>1 1/9 bushel cartons</td>\n      <td>18.0</td>\n      <td>18.0</td>\n      <td>18.0</td>\n    </tr>\n    <tr>\n      <th>73</th>\n      <td>10</td>\n      <td>1 1/9 bushel cartons</td>\n      <td>17.0</td>\n      <td>17.0</td>\n      <td>17.0</td>\n    </tr>\n    <tr>\n      <th>74</th>\n      <td>10</td>\n      <td>1 1/9 bushel cartons</td>\n      <td>15.0</td>\n      <td>15.0</td>\n      <td>15.0</td>\n    </tr>\n  </tbody>\n</table>\n</div>"
     },
     "execution_count": 81,
     "metadata": {},
     "output_type": "execute_result"
    }
   ],
   "source": [
    "new_pumpkins = new_pumpkins[new_pumpkins['Package'].str.contains('bushel', case=False, regex=True)]\n",
    "new_pumpkins.head()"
   ],
   "metadata": {
    "collapsed": false,
    "ExecuteTime": {
     "end_time": "2024-03-24T08:32:41.498499900Z",
     "start_time": "2024-03-24T08:32:41.293239200Z"
    }
   }
  },
  {
   "cell_type": "code",
   "execution_count": 82,
   "outputs": [
    {
     "data": {
      "text/plain": "    Month               Package  Low Price  High Price  Price\n70      9  1 1/9 bushel cartons       15.0        15.0   13.5\n71      9  1 1/9 bushel cartons       18.0        18.0   16.2\n72     10  1 1/9 bushel cartons       18.0        18.0   16.2\n73     10  1 1/9 bushel cartons       17.0        17.0   15.3\n74     10  1 1/9 bushel cartons       15.0        15.0   13.5",
      "text/html": "<div>\n<style scoped>\n    .dataframe tbody tr th:only-of-type {\n        vertical-align: middle;\n    }\n\n    .dataframe tbody tr th {\n        vertical-align: top;\n    }\n\n    .dataframe thead th {\n        text-align: right;\n    }\n</style>\n<table border=\"1\" class=\"dataframe\">\n  <thead>\n    <tr style=\"text-align: right;\">\n      <th></th>\n      <th>Month</th>\n      <th>Package</th>\n      <th>Low Price</th>\n      <th>High Price</th>\n      <th>Price</th>\n    </tr>\n  </thead>\n  <tbody>\n    <tr>\n      <th>70</th>\n      <td>9</td>\n      <td>1 1/9 bushel cartons</td>\n      <td>15.0</td>\n      <td>15.0</td>\n      <td>13.5</td>\n    </tr>\n    <tr>\n      <th>71</th>\n      <td>9</td>\n      <td>1 1/9 bushel cartons</td>\n      <td>18.0</td>\n      <td>18.0</td>\n      <td>16.2</td>\n    </tr>\n    <tr>\n      <th>72</th>\n      <td>10</td>\n      <td>1 1/9 bushel cartons</td>\n      <td>18.0</td>\n      <td>18.0</td>\n      <td>16.2</td>\n    </tr>\n    <tr>\n      <th>73</th>\n      <td>10</td>\n      <td>1 1/9 bushel cartons</td>\n      <td>17.0</td>\n      <td>17.0</td>\n      <td>15.3</td>\n    </tr>\n    <tr>\n      <th>74</th>\n      <td>10</td>\n      <td>1 1/9 bushel cartons</td>\n      <td>15.0</td>\n      <td>15.0</td>\n      <td>13.5</td>\n    </tr>\n  </tbody>\n</table>\n</div>"
     },
     "execution_count": 82,
     "metadata": {},
     "output_type": "execute_result"
    }
   ],
   "source": [
    "new_pumpkins.loc[new_pumpkins['Package'].str.contains('1 1/9'), 'Price'] = price/(1 + 1/9)\n",
    "\n",
    "new_pumpkins.loc[new_pumpkins['Package'].str.contains('1/2'), 'Price'] = price/(1/2)\n",
    "new_pumpkins.head()"
   ],
   "metadata": {
    "collapsed": false,
    "ExecuteTime": {
     "end_time": "2024-03-24T08:32:41.598295100Z",
     "start_time": "2024-03-24T08:32:41.307805400Z"
    }
   }
  },
  {
   "cell_type": "code",
   "execution_count": 91,
   "outputs": [
    {
     "data": {
      "text/plain": "<Figure size 640x480 with 1 Axes>",
      "image/png": "[encoded data removed]"
     },
     "metadata": {},
     "output_type": "display_data"
    }
   ],
   "source": [
    "new_pumpkins.groupby(['Month'])['Price'].mean().plot(kind='bar')\n",
    "price = new_pumpkins.Price\n",
    "month = new_pumpkins.Month\n",
    "plt.scatter(price, month)\n",
    "plt.ylabel(\"Pumpkin Price\")\n",
    "plt.show()"
   ],
   "metadata": {
    "collapsed": false,
    "ExecuteTime": {
     "end_time": "2024-03-24T08:35:16.518361100Z",
     "start_time": "2024-03-24T08:35:16.414694Z"
    }
   }
  },
  {
   "cell_type": "code",
   "execution_count": 93,
   "outputs": [
    {
     "name": "stdout",
     "output_type": "stream",
     "text": [
      "<class 'pandas.core.frame.DataFrame'>\n",
      "Index: 415 entries, 70 to 1742\n",
      "Data columns (total 5 columns):\n",
      " #   Column      Non-Null Count  Dtype  \n",
      "---  ------      --------------  -----  \n",
      " 0   Month       415 non-null    int32  \n",
      " 1   Package     415 non-null    object \n",
      " 2   Low Price   415 non-null    float64\n",
      " 3   High Price  415 non-null    float64\n",
      " 4   Price       415 non-null    float64\n",
      "dtypes: float64(3), int32(1), object(1)\n",
      "memory usage: 17.8+ KB\n"
     ]
    }
   ],
   "source": [
    "new_pumpkins.info()"
   ],
   "metadata": {
    "collapsed": false,
    "ExecuteTime": {
     "end_time": "2024-03-24T11:43:40.695247500Z",
     "start_time": "2024-03-24T11:43:40.660638900Z"
    }
   }
  }
 ]
}
