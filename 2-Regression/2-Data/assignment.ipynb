{
 "cells": [
  {
   "cell_type": "code",
   "execution_count": 146,
   "id": "initial_id",
   "metadata": {
    "collapsed": true,
    "ExecuteTime": {
     "end_time": "2024-03-25T12:51:31.618710700Z",
     "start_time": "2024-03-25T12:51:31.581982100Z"
    }
   },
   "outputs": [
    {
     "name": "stdout",
     "output_type": "stream",
     "text": [
      "City Name - null value number: 0\n",
      "Type - null value number: 1712\n",
      "Package - null value number: 0\n",
      "Variety - null value number: 5\n",
      "Sub Variety - null value number: 1461\n",
      "Grade - null value number: 1757\n",
      "Date - null value number: 0\n",
      "Low Price - null value number: 0\n",
      "High Price - null value number: 0\n",
      "Mostly Low - null value number: 103\n",
      "Mostly High - null value number: 103\n",
      "Origin - null value number: 3\n",
      "Origin District - null value number: 1626\n",
      "Item Size - null value number: 279\n",
      "Color - null value number: 616\n",
      "Environment - null value number: 1757\n",
      "Unit of Sale - null value number: 1595\n",
      "Quality - null value number: 1757\n",
      "Condition - null value number: 1757\n",
      "Appearance - null value number: 1757\n",
      "Storage - null value number: 1757\n",
      "Crop - null value number: 1757\n",
      "Repack - null value number: 0\n",
      "Trans Mode - null value number: 1757\n",
      "Unnamed: 24 - null value number: 1757\n",
      "Unnamed: 25 - null value number: 1654\n",
      "(1757, 26)\n"
     ]
    }
   ],
   "source": [
    "import pandas as pd\n",
    "import matplotlib.pyplot as plt\n",
    "\n",
    "pumpkins = pd.read_csv(\"../data/US-pumpkins.csv\")\n",
    "for column in pumpkins.columns:\n",
    "    print(f\"{column} - null value number: {pumpkins[column].isnull().sum()}\")\n",
    "print(pumpkins.shape)"
   ]
  },
  {
   "cell_type": "code",
   "execution_count": 147,
   "outputs": [],
   "source": [
    "new_pumpkins = pd.DataFrame({\n",
    "    'Date': pd.DatetimeIndex(pumpkins[\"Date\"]),\n",
    "    'Month': pd.DatetimeIndex(pumpkins[\"Date\"]).month,\n",
    "    'Package': pumpkins['Package'],\n",
    "    'Low Price': pumpkins['Low Price'],\n",
    "    'High Price': pumpkins['High Price'],\n",
    "    'Price': (pumpkins['Low Price'] + pumpkins['High Price']) / 2\n",
    "})\n",
    "new_pumpkins = new_pumpkins[new_pumpkins['Package'].str.contains(\"bushel\")]\n",
    "new_pumpkins.loc[new_pumpkins['Package'].str.contains(\"1 1/9\"), 'Price'] = new_pumpkins['Price'] * (1 + 1 / 9)\n",
    "new_pumpkins.loc[new_pumpkins['Package'].str.contains(\"1/2\"), 'Price'] = new_pumpkins['Price'] * 2\n"
   ],
   "metadata": {
    "collapsed": false,
    "ExecuteTime": {
     "end_time": "2024-03-25T12:51:31.784323200Z",
     "start_time": "2024-03-25T12:51:31.600710800Z"
    }
   },
   "id": "695d3924d33568e4"
  },
  {
   "cell_type": "code",
   "execution_count": 148,
   "outputs": [
    {
     "name": "stdout",
     "output_type": "stream",
     "text": [
      "           Date  Month               Package  Low Price  High Price      Price\n",
      "70   2016-09-24      9  1 1/9 bushel cartons       15.0        15.0  16.666667\n",
      "71   2016-09-24      9  1 1/9 bushel cartons       18.0        18.0  20.000000\n",
      "72   2016-10-01     10  1 1/9 bushel cartons       18.0        18.0  20.000000\n",
      "73   2016-10-01     10  1 1/9 bushel cartons       17.0        17.0  18.888889\n",
      "74   2016-10-08     10  1 1/9 bushel cartons       15.0        15.0  16.666667\n",
      "123  2016-09-24      9    1/2 bushel cartons       18.0        18.0  36.000000\n",
      "124  2016-09-24      9    1/2 bushel cartons       15.0        15.0  30.000000\n",
      "125  2016-10-01     10    1/2 bushel cartons       18.0        18.0  36.000000\n",
      "126  2016-10-01     10    1/2 bushel cartons       15.0        15.0  30.000000\n",
      "127  2016-10-01     10    1/2 bushel cartons       17.0        17.0  34.000000\n",
      "377  2016-09-24      9   1 1/9 bushel crates       15.0        16.0  17.222222\n",
      "378  2016-10-01     10   1 1/9 bushel crates       15.0        16.0  17.222222\n",
      "379  2016-10-08     10   1 1/9 bushel crates       15.0        16.0  17.222222\n",
      "380  2016-10-15     10   1 1/9 bushel crates       15.0        16.0  17.222222\n",
      "381  2016-10-22     10   1 1/9 bushel crates       15.0        16.0  17.222222\n",
      "489  2017-09-23      9        bushel cartons       20.0        24.0  22.000000\n",
      "490  2017-09-30      9        bushel cartons       20.0        24.0  22.000000\n",
      "977  2016-09-24      9        bushel cartons       19.0        19.0  19.000000\n",
      "978  2016-10-01     10        bushel cartons       19.0        19.0  19.000000\n",
      "979  2016-10-08     10        bushel cartons       19.0        19.0  19.000000\n",
      "1569 2016-10-08     10        bushel baskets       25.0        48.0  36.500000\n",
      "1570 2016-10-15     10        bushel baskets       45.0        48.0  46.500000\n",
      "1571 2016-10-22     10        bushel baskets       45.0        48.0  46.500000\n",
      "1572 2016-10-22     10        bushel baskets       45.0        48.0  46.500000\n",
      "1573 2016-10-29     10        bushel baskets       45.0        48.0  46.500000\n"
     ]
    }
   ],
   "source": [
    "print(new_pumpkins.groupby(\"Package\").head(5))"
   ],
   "metadata": {
    "collapsed": false,
    "ExecuteTime": {
     "end_time": "2024-03-25T12:51:31.798986500Z",
     "start_time": "2024-03-25T12:51:31.787324900Z"
    }
   },
   "id": "8d12ee2722fdae66"
  },
  {
   "cell_type": "code",
   "execution_count": 149,
   "outputs": [
    {
     "data": {
      "text/plain": "<Figure size 640x480 with 1 Axes>",
      "image/png": "[encoded data removed]"
     },
     "metadata": {},
     "output_type": "display_data"
    }
   ],
   "source": [
    "\n",
    "new_pumpkins.groupby('Month')['Price'].mean().plot(kind='bar')\n",
    "plt.ylabel(\"Price\")\n",
    "# fig,ax = plt.subplots()\n",
    "# ax.scatter(new_pumpkins['Month'], new_pumpkins['Low Price'])\n",
    "# ax.set_title(\"test1\")\n",
    "# fig,ax = plt.subplots()\n",
    "# ax.scatter(new_pumpkins['Month'], new_pumpkins['Price'])\n",
    "# ax.set_title(\"test2\")\n",
    "plt.show()"
   ],
   "metadata": {
    "collapsed": false,
    "ExecuteTime": {
     "end_time": "2024-03-25T12:51:31.920053100Z",
     "start_time": "2024-03-25T12:51:31.798986500Z"
    }
   },
   "id": "ad5191cbec9ce0ae"
  },
  {
   "cell_type": "code",
   "execution_count": 150,
   "outputs": [
    {
     "data": {
      "text/plain": "<Figure size 640x480 with 1 Axes>",
      "image/png": "[encoded data removed]"
     },
     "metadata": {},
     "output_type": "display_data"
    }
   ],
   "source": [
    "\n",
    "new_pumpkins.groupby('Month')['Low Price'].mean().plot(kind='bar')\n",
    "plt.ylabel(\"Price\")\n",
    "plt.show()"
   ],
   "metadata": {
    "collapsed": false,
    "ExecuteTime": {
     "end_time": "2024-03-25T12:51:32.030321300Z",
     "start_time": "2024-03-25T12:51:31.913353400Z"
    }
   },
   "id": "75a648982f97279f"
  }
 ],
 "metadata": {
  "kernelspec": {
   "display_name": "Python 3",
   "language": "python",
   "name": "python3"
  },
  "language_info": {
   "codemirror_mode": {
    "name": "ipython",
    "version": 2
   },
   "file_extension": ".py",
   "mimetype": "text/x-python",
   "name": "python",
   "nbconvert_exporter": "python",
   "pygments_lexer": "ipython2",
   "version": "2.7.6"
  }
 },
 "nbformat": 4,
 "nbformat_minor": 5
}
